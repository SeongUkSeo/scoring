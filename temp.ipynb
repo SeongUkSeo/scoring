{
 "cells": [
  {
   "cell_type": "code",
   "execution_count": null,
   "id": "960b7eae",
   "metadata": {},
   "outputs": [],
   "source": [
    "b = {\n",
    "        \"Music\":               {\"Cover\": True,  \"Distribution\": \"LN\", \"Parameter\": {\"median\":120,\"p90\":600}, \"FallbackSourceWeight\": 0.55, \"FallbackTopicWeight\": 0.0},\n",
    "        \"Video\":               {\"Cover\": True,  \"Distribution\": \"LN\", \"Parameter\": {\"median\":120,\"p90\":600}, \"FallbackSourceWeight\": 0.55, \"FallbackTopicWeight\": 0.0},\n",
    "        \"Movie\":               {\"Cover\": False, \"Distribution\": \"LN\", \"Parameter\": {\"median\":120,\"p90\":600}, \"FallbackSourceWeight\": 0.55, \"FallbackTopicWeight\": 0.0},\n",
    "        \"Game\":                {\"Cover\": False, \"Distribution\": \"LN\", \"Parameter\": {\"median\":120,\"p90\":600}, \"FallbackSourceWeight\": 0.55, \"FallbackTopicWeight\": 0.0},\n",
    "        \"Reading\":             {\"Cover\": False, \"Distribution\": \"LN\", \"Parameter\": {\"median\":120,\"p90\":600}, \"FallbackSourceWeight\": 0.55, \"FallbackTopicWeight\": 0.0},\n",
    "        \"Webtoon\":             {\"Cover\": False, \"Distribution\": \"LN\", \"Parameter\": {\"median\":120,\"p90\":600}, \"FallbackSourceWeight\": 0.55, \"FallbackTopicWeight\": 0.0},\n",
    "        \"Celebrity\":           {\"Cover\": False, \"Distribution\": \"LN\", \"Parameter\": {\"median\":120,\"p90\":600}, \"FallbackSourceWeight\": 0.55, \"FallbackTopicWeight\": 0.0},\n",
    "\n",
    "        \"Baseball\":            {\"Cover\": True,  \"Distribution\": \"LN\", \"Parameter\": {\"median\":120,\"p90\":600}, \"FallbackSourceWeight\": 0.55, \"FallbackTopicWeight\": 0.0},\n",
    "        \"Basketball\":          {\"Cover\": True,  \"Distribution\": \"LN\", \"Parameter\": {\"median\":120,\"p90\":600}, \"FallbackSourceWeight\": 0.55, \"FallbackTopicWeight\": 0.0},\n",
    "        \"Soccer\":              {\"Cover\": True,  \"Distribution\": \"LN\", \"Parameter\": {\"median\":120,\"p90\":600}, \"FallbackSourceWeight\": 0.55, \"FallbackTopicWeight\": 0.0},\n",
    "        \"Golf\":                {\"Cover\": True,  \"Distribution\": \"LN\", \"Parameter\": {\"median\":120,\"p90\":600}, \"FallbackSourceWeight\": 0.55, \"FallbackTopicWeight\": 0.0},\n",
    "        \"Running\":             {\"Cover\": True,  \"Distribution\": \"LN\", \"Parameter\": {\"median\":120,\"p90\":600}, \"FallbackSourceWeight\": 0.55, \"FallbackTopicWeight\": 0.0},\n",
    "        \"Cycle\":               {\"Cover\": True,  \"Distribution\": \"LN\", \"Parameter\": {\"median\":120,\"p90\":600}, \"FallbackSourceWeight\": 0.55, \"FallbackTopicWeight\": 0.0},\n",
    "        \"Cricket\":             {\"Cover\": True,  \"Distribution\": \"LN\", \"Parameter\": {\"median\":120,\"p90\":600}, \"FallbackSourceWeight\": 0.55, \"FallbackTopicWeight\": 0.0},\n",
    "        \"Volleyball\":          {\"Cover\": True,  \"Distribution\": \"LN\", \"Parameter\": {\"median\":120,\"p90\":600}, \"FallbackSourceWeight\": 0.55, \"FallbackTopicWeight\": 0.0},\n",
    "        \"Tennis\":              {\"Cover\": True,  \"Distribution\": \"LN\", \"Parameter\": {\"median\":120,\"p90\":600}, \"FallbackSourceWeight\": 0.55, \"FallbackTopicWeight\": 0.0},\n",
    "        \"Other Sports\":        {\"Cover\": True,  \"Distribution\": \"LN\", \"Parameter\": {\"median\":120,\"p90\":600}, \"FallbackSourceWeight\": 0.55, \"FallbackTopicWeight\": 0.0},\n",
    "\n",
    "        \"Other Pets\":          {\"Cover\": True,  \"Distribution\": \"LN\", \"Parameter\": {\"median\":120,\"p90\":600}, \"FallbackSourceWeight\": 0.55, \"FallbackTopicWeight\": 0.0},\n",
    "        \"Dogs\":                {\"Cover\": True,  \"Distribution\": \"LN\", \"Parameter\": {\"median\":120,\"p90\":600}, \"FallbackSourceWeight\": 0.55, \"FallbackTopicWeight\": 0.0},\n",
    "        \"Cats\":                {\"Cover\": True,  \"Distribution\": \"LN\", \"Parameter\": {\"median\":120,\"p90\":600}, \"FallbackSourceWeight\": 0.55, \"FallbackTopicWeight\": 0.0},\n",
    "\n",
    "        \"Leisure\":             {\"Cover\": True,  \"Distribution\": \"LN\", \"Parameter\": {\"median\":120,\"p90\":600}, \"FallbackSourceWeight\": 0.55, \"FallbackTopicWeight\": 0.0},\n",
    "        \"Travel\":              {\"Cover\": True,  \"Distribution\": \"LN\", \"Parameter\": {\"median\":120,\"p90\":600}, \"FallbackSourceWeight\": 0.55, \"FallbackTopicWeight\": 0.0},\n",
    "        \"Camping\":             {\"Cover\": True,  \"Distribution\": \"LN\", \"Parameter\": {\"median\":120,\"p90\":600}, \"FallbackSourceWeight\": 0.55, \"FallbackTopicWeight\": 0.0},\n",
    "        \"Fishing\":             {\"Cover\": True,  \"Distribution\": \"LN\", \"Parameter\": {\"median\":120,\"p90\":600}, \"FallbackSourceWeight\": 0.55, \"FallbackTopicWeight\": 0.0},\n",
    "\n",
    "        \"Finance\":             {\"Cover\": True,  \"Distribution\": \"LN\", \"Parameter\": {\"median\":120,\"p90\":600}, \"FallbackSourceWeight\": 0.55, \"FallbackTopicWeight\": 0.0},\n",
    "        \"Stock\":               {\"Cover\": True,  \"Distribution\": \"LN\", \"Parameter\": {\"median\":120,\"p90\":600}, \"FallbackSourceWeight\": 0.55, \"FallbackTopicWeight\": 0.0},\n",
    "        \"Real estate\":         {\"Cover\": True,  \"Distribution\": \"LN\", \"Parameter\": {\"median\":120,\"p90\":600}, \"FallbackSourceWeight\": 0.55, \"FallbackTopicWeight\": 0.0},\n",
    "\n",
    "        \"Shopping\":            {\"Cover\": True,  \"Distribution\": \"LN\", \"Parameter\": {\"median\":120,\"p90\":600}, \"FallbackSourceWeight\": 0.55, \"FallbackTopicWeight\": 0.0},\n",
    "        \"Beauty\":              {\"Cover\": True,  \"Distribution\": \"LN\", \"Parameter\": {\"median\":120,\"p90\":600}, \"FallbackSourceWeight\": 0.55, \"FallbackTopicWeight\": 0.0},\n",
    "        \"Food\":                {\"Cover\": True,  \"Distribution\": \"LN\", \"Parameter\": {\"median\":120,\"p90\":600}, \"FallbackSourceWeight\": 0.55, \"FallbackTopicWeight\": 0.0},\n",
    "        \"Auto and Vehicles\":   {\"Cover\": True,  \"Distribution\": \"LN\", \"Parameter\": {\"median\":120,\"p90\":600}, \"FallbackSourceWeight\": 0.55, \"FallbackTopicWeight\": 0.0},\n",
    "\n",
    "        \"Education\":           {\"Cover\": True,  \"Distribution\": \"LN\", \"Parameter\": {\"median\":120,\"p90\":600}, \"FallbackSourceWeight\": 0.55, \"FallbackTopicWeight\": 0.0},\n",
    "        \"Childcare\":           {\"Cover\": True,  \"Distribution\": \"LN\", \"Parameter\": {\"median\":120,\"p90\":600}, \"FallbackSourceWeight\": 0.55, \"FallbackTopicWeight\": 0.0},\n",
    "\n",
    "        \"Social\":              {\"Cover\": True,  \"Distribution\": \"LN\", \"Parameter\": {\"median\":120,\"p90\":600}, \"FallbackSourceWeight\": 0.55, \"FallbackTopicWeight\": 0.0},\n",
    "        \"Art and Culture\":     {\"Cover\": True,  \"Distribution\": \"LN\", \"Parameter\": {\"median\":120,\"p90\":600}, \"FallbackSourceWeight\": 0.55, \"FallbackTopicWeight\": 0.0},\n",
    "        \"Nature\":              {\"Cover\": True,  \"Distribution\": \"LN\", \"Parameter\": {\"median\":120,\"p90\":600}, \"FallbackSourceWeight\": 0.55, \"FallbackTopicWeight\": 0.0}\n",
    "    }"
   ]
  },
  {
   "cell_type": "code",
   "execution_count": 2,
   "id": "60d55ed9",
   "metadata": {},
   "outputs": [],
   "source": [
    "a = {\n",
    "  \"Music\":              {\"median\": 300, \"p90\": 1200},\n",
    "  \"Video\":              {\"median\": 360, \"p90\": 1500},\n",
    "  \"Movie\":              {\"median\": 120, \"p90\": 600},\n",
    "  \"Game\":               {\"median\": 240, \"p90\": 1200},\n",
    "\n",
    "  \"Reading\":            {\"median\": 90,  \"p90\": 420},\n",
    "  \"Webtoon\":            {\"median\": 150, \"p90\": 720},\n",
    "  \"Celebrity\":          {\"median\": 120, \"p90\": 600},\n",
    "\n",
    "  \"Baseball\":           {\"median\": 60,  \"p90\": 360},\n",
    "  \"Basketball\":         {\"median\": 60,  \"p90\": 360},\n",
    "  \"Soccer\":             {\"median\": 75,  \"p90\": 420},\n",
    "  \"Golf\":               {\"median\": 45,  \"p90\": 300},\n",
    "  \"Running\":            {\"median\": 45,  \"p90\": 240},\n",
    "  \"Cycle\":              {\"median\": 45,  \"p90\": 240},\n",
    "  \"Cricket\":            {\"median\": 45,  \"p90\": 300},\n",
    "  \"Volleyball\":         {\"median\": 45,  \"p90\": 300},\n",
    "  \"Tennis\":             {\"median\": 45,  \"p90\": 300},\n",
    "  \"Other Sports\":       {\"median\": 45,  \"p90\": 300},\n",
    "\n",
    "  \"Other Pets\":         {\"median\": 45,  \"p90\": 240},\n",
    "  \"Dogs\":               {\"median\": 75,  \"p90\": 360},\n",
    "  \"Cats\":               {\"median\": 60,  \"p90\": 300},\n",
    "\n",
    "  \"Leisure\":            {\"median\": 90,  \"p90\": 480},\n",
    "  \"Travel\":             {\"median\": 90,  \"p90\": 600},\n",
    "  \"Camping\":            {\"median\": 60,  \"p90\": 360},\n",
    "  \"Fishing\":            {\"median\": 45,  \"p90\": 300},\n",
    "\n",
    "  \"Finance\":            {\"median\": 75,  \"p90\": 420},\n",
    "  \"Stock\":              {\"median\": 90,  \"p90\": 540},\n",
    "  \"Real estate\":        {\"median\": 45,  \"p90\": 300},\n",
    "\n",
    "  \"Shopping\":           {\"median\": 150, \"p90\": 720},\n",
    "  \"Beauty\":             {\"median\": 90,  \"p90\": 420},\n",
    "  \"Food\":               {\"median\": 120, \"p90\": 600},\n",
    "  \"Auto and Vehicles\":  {\"median\": 75,  \"p90\": 420},\n",
    "\n",
    "  \"Education\":          {\"median\": 120, \"p90\": 600},\n",
    "  \"Childcare\":          {\"median\": 60,  \"p90\": 360},\n",
    "  \"Social\":             {\"median\": 120, \"p90\": 600},\n",
    "  \"Art and Culture\":    {\"median\": 60,  \"p90\": 360},\n",
    "  \"Nature\":             {\"median\": 45,  \"p90\": 300}\n",
    "}\n"
   ]
  },
  {
   "cell_type": "code",
   "execution_count": 1,
   "id": "e6254960",
   "metadata": {},
   "outputs": [],
   "source": [
    "import json\n",
    "with open(\"config.json\", \"r\") as f:\n",
    "    data = json.load(f)"
   ]
  },
  {
   "cell_type": "code",
   "execution_count": 6,
   "id": "5912d865",
   "metadata": {},
   "outputs": [],
   "source": [
    "settings = {}\n",
    "for k, vs in data.items():\n",
    "    settings[k] = {}\n",
    "    for t, p in vs.items():\n",
    "        settings[k][t] = p['Cover']\n",
    "with open('cover.json', 'w') as f:\n",
    "    json.dump(settings, f, indent=4)"
   ]
  },
  {
   "cell_type": "code",
   "execution_count": 5,
   "id": "da7aba9c",
   "metadata": {},
   "outputs": [],
   "source": [
    "for k, v in b.items():\n",
    "    b[k][\"Parameter\"] = a[k]"
   ]
  },
  {
   "cell_type": "code",
   "execution_count": 11,
   "id": "8b937325",
   "metadata": {},
   "outputs": [],
   "source": [
    "import json\n",
    "with open(\"config2.json\", \"w\") as f:\n",
    "    json.dump(c, f, indent=4)"
   ]
  },
  {
   "cell_type": "code",
   "execution_count": 8,
   "id": "7d747141",
   "metadata": {},
   "outputs": [],
   "source": [
    "c = {\n",
    "  \"Game\":        {\"Cover\": False, \"Distribution\":\"C\",   \"Parameter\":{\"p\":0.5}, \"FallbackSourceWeight\":0.0, \"FallbackTopicWeight\":0.0},\n",
    "\n",
    "  \"Baseball\":    {\"Cover\": True,  \"Distribution\":\"ZINB\",\"Parameter\":{\"mean\":4,\"var\":12,\"p0\":0.4}, \"FallbackSourceWeight\":0.0,\"FallbackTopicWeight\":0.0},\n",
    "  \"Basketball\":  {\"Cover\": True,  \"Distribution\":\"ZINB\",\"Parameter\":{\"mean\":5,\"var\":15,\"p0\":0.35},\"FallbackSourceWeight\":0.0,\"FallbackTopicWeight\":0.0},\n",
    "  \"Soccer\":      {\"Cover\": True,  \"Distribution\":\"ZINB\",\"Parameter\":{\"mean\":6,\"var\":18,\"p0\":0.30},\"FallbackSourceWeight\":0.0,\"FallbackTopicWeight\":0.0},\n",
    "  \"Golf\":        {\"Cover\": True,  \"Distribution\":\"ZINB\",\"Parameter\":{\"mean\":3,\"var\":9,\"p0\":0.45}, \"FallbackSourceWeight\":0.0,\"FallbackTopicWeight\":0.0},\n",
    "  \"Running\":     {\"Cover\": True,  \"Distribution\":\"ZINB\",\"Parameter\":{\"mean\":8,\"var\":20,\"p0\":0.25},\"FallbackSourceWeight\":0.0,\"FallbackTopicWeight\":0.0},\n",
    "  \"Cycle\":       {\"Cover\": True,  \"Distribution\":\"ZINB\",\"Parameter\":{\"mean\":7,\"var\":18,\"p0\":0.28},\"FallbackSourceWeight\":0.0,\"FallbackTopicWeight\":0.0},\n",
    "  \"Cricket\":     {\"Cover\": True,  \"Distribution\":\"ZINB\",\"Parameter\":{\"mean\":4,\"var\":12,\"p0\":0.4}, \"FallbackSourceWeight\":0.0,\"FallbackTopicWeight\":0.0},\n",
    "  \"Volleyball\":  {\"Cover\": True,  \"Distribution\":\"ZINB\",\"Parameter\":{\"mean\":4,\"var\":12,\"p0\":0.4}, \"FallbackSourceWeight\":0.0,\"FallbackTopicWeight\":0.0},\n",
    "  \"Tennis\":      {\"Cover\": True,  \"Distribution\":\"ZINB\",\"Parameter\":{\"mean\":4,\"var\":12,\"p0\":0.4}, \"FallbackSourceWeight\":0.0,\"FallbackTopicWeight\":0.0},\n",
    "  \"Other Sports\":{\"Cover\": True,  \"Distribution\":\"ZINB\",\"Parameter\":{\"mean\":5,\"var\":15,\"p0\":0.35},\"FallbackSourceWeight\":0.0,\"FallbackTopicWeight\":0.0},\n",
    "\n",
    "  \"Travel\":      {\"Cover\": True,  \"Distribution\":\"ZINB\",\"Parameter\":{\"mean\":2,\"var\":6,\"p0\":0.6},  \"FallbackSourceWeight\":0.0,\"FallbackTopicWeight\":0.0},\n",
    "  \"Camping\":     {\"Cover\": True,  \"Distribution\":\"ZINB\",\"Parameter\":{\"mean\":3,\"var\":9,\"p0\":0.5},  \"FallbackSourceWeight\":0.0,\"FallbackTopicWeight\":0.0},\n",
    "  \"Fishing\":     {\"Cover\": True,  \"Distribution\":\"ZINB\",\"Parameter\":{\"mean\":2,\"var\":6,\"p0\":0.55}, \"FallbackSourceWeight\":0.0,\"FallbackTopicWeight\":0.0},\n",
    "}\n"
   ]
  },
  {
   "cell_type": "code",
   "execution_count": 10,
   "id": "28f84d8f",
   "metadata": {},
   "outputs": [],
   "source": [
    "for k in b.keys():\n",
    "    if k not in c:\n",
    "        c[k] = {\"Cover\": False, \"Distribution\":\"C\", \"Parameter\":{\"p\":0.5}, \"FallbackSourceWeight\":0.0, \"FallbackTopicWeight\":0.0}"
   ]
  }
 ],
 "metadata": {
  "kernelspec": {
   "display_name": "Python 3",
   "language": "python",
   "name": "python3"
  },
  "language_info": {
   "codemirror_mode": {
    "name": "ipython",
    "version": 3
   },
   "file_extension": ".py",
   "mimetype": "text/x-python",
   "name": "python",
   "nbconvert_exporter": "python",
   "pygments_lexer": "ipython3",
   "version": "3.11.3"
  }
 },
 "nbformat": 4,
 "nbformat_minor": 5
}
